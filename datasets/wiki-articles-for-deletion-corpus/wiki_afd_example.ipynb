{
 "cells": [
  {
   "cell_type": "markdown",
   "metadata": {},
   "source": [
    "# Discussion-level outcome prediction in Wikipedia's Articles for Deletion debates\n",
    "\n",
    "In this notebook, we are going to predict the outcome of Wikipedia's Articles for Deletion debates, where editors discuss whether an article should be kept in Wikipedia or deleted. Analysis of Wikipedia Articles for Deletion debates was been originally done by Elijah Mayfield and Alan W Black and published in [\"Stance Classification, Outcome Prediction, and Impact Assessment: NLP Tasks for Studying Group Decision-Making\"](https://www.aclweb.org/anthology/W19-2108.pdf).\n"
   ]
  },
  {
   "cell_type": "code",
   "execution_count": 1,
   "metadata": {},
   "outputs": [],
   "source": [
    "from convokit import Corpus, Speaker, Utterance, VectorClassifier, BoWTransformer\n",
    "from sklearn.linear_model import LogisticRegression\n",
    "from sklearn.model_selection import KFold\n",
    "from sklearn.feature_extraction.text import CountVectorizer\n",
    "import numpy as np"
   ]
  },
  {
   "cell_type": "code",
   "execution_count": 5,
   "metadata": {},
   "outputs": [],
   "source": [
    "afd_corpus = convokit.Corpus(filename=convokit.download(\"wiki-articles-for-deletion-corpus\"))"
   ]
  },
  {
   "cell_type": "markdown",
   "metadata": {},
   "source": [
    "Here is an example conversation in this corpus. It corresponds to the deletion debate of the **Makoto Uchida** Wikipedia article. After the discussion, it was decided to keep this article. We have `keep` as the `outcome_label`."
   ]
  },
  {
   "cell_type": "code",
   "execution_count": 7,
   "metadata": {},
   "outputs": [
    {
     "data": {
      "text/plain": [
       "Conversation({'obj_type': 'conversation', 'meta': {'article_title': 'Makoto Uchida', 'outcome_id': '300040822', 'outcome_label': 'keep', 'outcome_raw_label': 'keep', 'outcome_decision_maker_id': '200001408', 'outcome_timestamp': 1265155080.0, 'outcome_rationale': \"The result was    '''keep'''. '''\"}, 'vectors': [], 'tree': None, 'owner': <convokit.model.corpus.Corpus object at 0x7ff09164a880>, 'id': '100045461'})"
      ]
     },
     "execution_count": 7,
     "metadata": {},
     "output_type": "execute_result"
    }
   ],
   "source": [
    "afd_corpus.get_conversation('100045461')"
   ]
  },
  {
   "cell_type": "markdown",
   "metadata": {},
   "source": [
    "Let's check what other discussion outcome labels are there in this corpus."
   ]
  },
  {
   "cell_type": "code",
   "execution_count": 8,
   "metadata": {},
   "outputs": [
    {
     "data": {
      "text/plain": [
       "({'close',\n",
       "  'close copyright',\n",
       "  'close copyright delete',\n",
       "  'close copyright delete speedy',\n",
       "  'close delete',\n",
       "  'close delete keep',\n",
       "  'close delete keep redirect',\n",
       "  'close delete keep speedy',\n",
       "  'close delete keep speedy withdraw',\n",
       "  'close delete keep withdraw',\n",
       "  'close delete merge speedy',\n",
       "  'close delete no-consensus speedy',\n",
       "  'close delete redirect',\n",
       "  'close delete redirect speedy',\n",
       "  'close delete redirect withdraw',\n",
       "  'close delete speedy',\n",
       "  'close delete speedy withdraw',\n",
       "  'close delete withdraw',\n",
       "  'close keep',\n",
       "  'close keep redirect',\n",
       "  'close keep redirect speedy',\n",
       "  'close keep speedy',\n",
       "  'close keep speedy withdraw',\n",
       "  'close keep withdraw',\n",
       "  'close merge',\n",
       "  'close merge redirect',\n",
       "  'close merge redirect speedy',\n",
       "  'close merge speedy',\n",
       "  'close move',\n",
       "  'close move speedy',\n",
       "  'close no-consensus',\n",
       "  'close redirect',\n",
       "  'close redirect speedy',\n",
       "  'close speedy',\n",
       "  'close speedy withdraw',\n",
       "  'close userfy',\n",
       "  'close withdraw',\n",
       "  'copyright',\n",
       "  'copyright delete',\n",
       "  'copyright delete keep',\n",
       "  'copyright delete move redirect',\n",
       "  'copyright delete no-consensus',\n",
       "  'copyright delete redirect',\n",
       "  'copyright delete speedy',\n",
       "  'copyright keep',\n",
       "  'copyright keep move',\n",
       "  'copyright keep speedy withdraw',\n",
       "  'copyright merge redirect',\n",
       "  'copyright no-consensus',\n",
       "  'copyright redirect speedy',\n",
       "  'copyright speedy',\n",
       "  'delete',\n",
       "  'delete keep',\n",
       "  'delete keep merge',\n",
       "  'delete keep merge no-consensus',\n",
       "  'delete keep merge no-consensus redirect',\n",
       "  'delete keep merge no-consensus withdraw',\n",
       "  'delete keep merge redirect',\n",
       "  'delete keep merge speedy',\n",
       "  'delete keep move',\n",
       "  'delete keep move redirect speedy',\n",
       "  'delete keep no-consensus',\n",
       "  'delete keep no-consensus redirect',\n",
       "  'delete keep no-consensus speedy',\n",
       "  'delete keep redirect',\n",
       "  'delete keep redirect speedy',\n",
       "  'delete keep speedy',\n",
       "  'delete keep speedy withdraw',\n",
       "  'delete keep transwiki',\n",
       "  'delete keep withdraw',\n",
       "  'delete merge',\n",
       "  'delete merge move',\n",
       "  'delete merge move redirect',\n",
       "  'delete merge no-consensus',\n",
       "  'delete merge no-consensus redirect',\n",
       "  'delete merge redirect',\n",
       "  'delete merge speedy',\n",
       "  'delete merge transwiki',\n",
       "  'delete merge userfy',\n",
       "  'delete merge withdraw',\n",
       "  'delete move',\n",
       "  'delete move no-consensus',\n",
       "  'delete move redirect',\n",
       "  'delete move redirect speedy',\n",
       "  'delete move redirect userfy',\n",
       "  'delete move speedy',\n",
       "  'delete move userfy',\n",
       "  'delete no-consensus',\n",
       "  'delete no-consensus redirect',\n",
       "  'delete no-consensus speedy',\n",
       "  'delete no-consensus withdraw',\n",
       "  'delete redirect',\n",
       "  'delete redirect speedy',\n",
       "  'delete redirect transwiki',\n",
       "  'delete redirect userfy',\n",
       "  'delete speedy',\n",
       "  'delete speedy transwiki',\n",
       "  'delete speedy userfy',\n",
       "  'delete speedy withdraw',\n",
       "  'delete transwiki',\n",
       "  'delete transwiki withdraw',\n",
       "  'delete userfy',\n",
       "  'delete withdraw',\n",
       "  'incubate',\n",
       "  'incubate redirect',\n",
       "  'keep',\n",
       "  'keep merge',\n",
       "  'keep merge move',\n",
       "  'keep merge move redirect',\n",
       "  'keep merge move redirect speedy',\n",
       "  'keep merge no-consensus',\n",
       "  'keep merge no-consensus redirect',\n",
       "  'keep merge redirect',\n",
       "  'keep merge speedy',\n",
       "  'keep merge speedy withdraw',\n",
       "  'keep move',\n",
       "  'keep move no-consensus',\n",
       "  'keep move redirect',\n",
       "  'keep move speedy',\n",
       "  'keep move speedy withdraw',\n",
       "  'keep move withdraw',\n",
       "  'keep no-consensus',\n",
       "  'keep no-consensus redirect',\n",
       "  'keep no-consensus speedy',\n",
       "  'keep redirect',\n",
       "  'keep redirect speedy',\n",
       "  'keep redirect speedy withdraw',\n",
       "  'keep redirect transwiki',\n",
       "  'keep redirect withdraw',\n",
       "  'keep speedy',\n",
       "  'keep speedy withdraw',\n",
       "  'keep transwiki',\n",
       "  'keep withdraw',\n",
       "  'merge',\n",
       "  'merge move',\n",
       "  'merge move no-consensus',\n",
       "  'merge move no-consensus redirect',\n",
       "  'merge move redirect',\n",
       "  'merge no-consensus',\n",
       "  'merge no-consensus redirect',\n",
       "  'merge redirect',\n",
       "  'merge redirect speedy',\n",
       "  'merge redirect withdraw',\n",
       "  'merge speedy',\n",
       "  'merge speedy withdraw',\n",
       "  'merge transwiki',\n",
       "  'merge userfy',\n",
       "  'merge withdraw',\n",
       "  'move',\n",
       "  'move no-consensus',\n",
       "  'move redirect',\n",
       "  'move speedy',\n",
       "  'move userfy',\n",
       "  'move withdraw',\n",
       "  'no-consensus',\n",
       "  'no-consensus redirect',\n",
       "  'no-consensus speedy',\n",
       "  'no-consensus transwiki',\n",
       "  'no-consensus withdraw',\n",
       "  'other',\n",
       "  'redirect',\n",
       "  'redirect speedy',\n",
       "  'redirect speedy withdraw',\n",
       "  'redirect transwiki',\n",
       "  'redirect userfy',\n",
       "  'redirect withdraw',\n",
       "  'speedy',\n",
       "  'speedy transwiki',\n",
       "  'speedy userfy',\n",
       "  'speedy userfy withdraw',\n",
       "  'speedy withdraw',\n",
       "  'transwiki',\n",
       "  'userfy',\n",
       "  'withdraw'},\n",
       " 174)"
      ]
     },
     "execution_count": 8,
     "metadata": {},
     "output_type": "execute_result"
    }
   ],
   "source": [
    "unique_outcomes = set([])\n",
    "for conv in afd_corpus.iter_conversations():\n",
    "    unique_outcomes.add(conv.meta['outcome_label'])\n",
    "    \n",
    "unique_outcomes, len(unique_outcomes)"
   ]
  },
  {
   "cell_type": "markdown",
   "metadata": {},
   "source": [
    "There are `174` different outcomes labels! \n",
    "\n",
    "Ideally we would like to organize them into two categories -- `keep` and `delete`. We can do so by following conditions used by authors for these labels. To see the original code, check [(1)](https://github.com/emayfield/AFD_Decision_Corpus/blob/e184673699fb2577c8369a1f18adb903d0b57e63/endpoints/data/outcome.py#L221) and then [(2)](https://github.com/emayfield/AFD_Decision_Corpus/blob/e184673699fb2577c8369a1f18adb903d0b57e63/endpoints/data/outcome.py#L59). "
   ]
  },
  {
   "cell_type": "code",
   "execution_count": 9,
   "metadata": {},
   "outputs": [],
   "source": [
    "for conv in afd_corpus.iter_conversations():\n",
    "        outcome_label = conv.meta['outcome_label']\n",
    "        outcome_label_raw = conv.meta['outcome_raw_label']\n",
    "    \n",
    "        if \"delete\" in outcome_label:\n",
    "                delete_outcome = 1\n",
    "\n",
    "        elif \"keep\" in outcome_label:\n",
    "                delete_outcome = 0\n",
    "        \n",
    "        elif \"merge\" in outcome_label or \\\n",
    "             \"move\" in outcome_label or \\\n",
    "             \"userfy\" in outcome_label or \\\n",
    "             \"transwiki\" in outcome_label or \\\n",
    "             \"incubate\" in outcome_label_raw or\\\n",
    "             \"redirect\" in outcome_label:\n",
    "                delete_outcome = 1\n",
    "\n",
    "        elif \"withdraw\" in outcome_label or \\\n",
    "             \"close\" in outcome_label or \\\n",
    "             \"closing\" in outcome_label_raw or \\\n",
    "             \"cancel\" in outcome_label_raw:\n",
    "                delete_outcome = 0\n",
    "        \n",
    "        elif \"speedy\" in outcome_label or \\\n",
    "             \"copyvio\" in outcome_label_raw or \\\n",
    "             \"csd\" in outcome_label_raw:\n",
    "                delete_outcome = 1\n",
    "\n",
    "        else:\n",
    "                delete_outcome = 0\n",
    "\n",
    "                \n",
    "        conv.meta['delete_outcome_binary'] = delete_outcome"
   ]
  },
  {
   "cell_type": "markdown",
   "metadata": {},
   "source": [
    "Now, a new meta field can tell us whether the articles was decided to be deleted (`delete_outcome_binary=1`) or kept (`delete_outcome_binary=0`)."
   ]
  },
  {
   "cell_type": "code",
   "execution_count": 10,
   "metadata": {},
   "outputs": [
    {
     "data": {
      "text/plain": [
       "Conversation({'obj_type': 'conversation', 'meta': {'article_title': 'Makoto Uchida', 'outcome_id': '300040822', 'outcome_label': 'keep', 'outcome_raw_label': 'keep', 'outcome_decision_maker_id': '200001408', 'outcome_timestamp': 1265155080.0, 'outcome_rationale': \"The result was    '''keep'''. '''\", 'delete_outcome_binary': 0}, 'vectors': [], 'tree': None, 'owner': <convokit.model.corpus.Corpus object at 0x7ff09164a880>, 'id': '100045461'})"
      ]
     },
     "execution_count": 10,
     "metadata": {},
     "output_type": "execute_result"
    }
   ],
   "source": [
    "afd_corpus.get_conversation('100045461')"
   ]
  },
  {
   "cell_type": "markdown",
   "metadata": {},
   "source": [
    "Next, we can extract Bag-of-words features for discussions. Recall that in ConvoKit discussion utterances would be concatenated and from there the discussion vector representation is computed."
   ]
  },
  {
   "cell_type": "code",
   "execution_count": 11,
   "metadata": {},
   "outputs": [],
   "source": [
    "bow = BoWTransformer(obj_type='conversation',\n",
    "                      vector_name='convo_bow_vector',\n",
    "                      vectorizer=CountVectorizer(ngram_range=(1,1), lowercase=True, min_df=1))\n",
    "\n",
    "afd_corpus = bow.fit_transform(afd_corpus)"
   ]
  },
  {
   "cell_type": "markdown",
   "metadata": {},
   "source": [
    "Thus, every discussion has an associated BoW vector. "
   ]
  },
  {
   "cell_type": "code",
   "execution_count": 12,
   "metadata": {},
   "outputs": [
    {
     "data": {
      "text/plain": [
       "<1x1117438 sparse matrix of type '<class 'numpy.int64'>'\n",
       "\twith 155 stored elements in Compressed Sparse Row format>"
      ]
     },
     "execution_count": 12,
     "metadata": {},
     "output_type": "execute_result"
    }
   ],
   "source": [
    "c = afd_corpus.random_conversation()\n",
    "c.get_vector('convo_bow_vector')"
   ]
  },
  {
   "cell_type": "markdown",
   "metadata": {},
   "source": [
    "To predict the discussion outcome we are going to use ConvoKit's VectorClassifier. Let's chose the classification model to be liblinear logistic regression as done by the authors. "
   ]
  },
  {
   "cell_type": "code",
   "execution_count": 13,
   "metadata": {},
   "outputs": [],
   "source": [
    "bow_classifier = VectorClassifier(obj_type=\"conversation\", \n",
    "                                  vector_name=\"convo_bow_vector\",\n",
    "                                  labeller=lambda conv: conv.meta['delete_outcome_binary'],\n",
    "                                  clf=LogisticRegression(solver='liblinear'))"
   ]
  },
  {
   "cell_type": "markdown",
   "metadata": {},
   "source": [
    "Evaluate with cross-validation."
   ]
  },
  {
   "cell_type": "code",
   "execution_count": 14,
   "metadata": {},
   "outputs": [
    {
     "name": "stdout",
     "output_type": "stream",
     "text": [
      "Running a cross-validated evaluation...Done.\n"
     ]
    },
    {
     "data": {
      "text/plain": [
       "array([0.86070015, 0.86163784, 0.85965826, 0.86407147, 0.86193558])"
      ]
     },
     "execution_count": 14,
     "metadata": {},
     "output_type": "execute_result"
    }
   ],
   "source": [
    "results_bow = bow_classifier.evaluate_with_cv(afd_corpus, cv=KFold(n_splits=5))\n",
    "results_bow"
   ]
  },
  {
   "cell_type": "code",
   "execution_count": 17,
   "metadata": {},
   "outputs": [
    {
     "data": {
      "text/plain": [
       "0.8616006616145521"
      ]
     },
     "execution_count": 17,
     "metadata": {},
     "output_type": "execute_result"
    }
   ],
   "source": [
    "np.average(results_bow)"
   ]
  }
 ],
 "metadata": {
  "kernelspec": {
   "display_name": "Python 3",
   "language": "python",
   "name": "python3"
  },
  "language_info": {
   "codemirror_mode": {
    "name": "ipython",
    "version": 3
   },
   "file_extension": ".py",
   "mimetype": "text/x-python",
   "name": "python",
   "nbconvert_exporter": "python",
   "pygments_lexer": "ipython3",
   "version": "3.8.3"
  }
 },
 "nbformat": 4,
 "nbformat_minor": 4
}
