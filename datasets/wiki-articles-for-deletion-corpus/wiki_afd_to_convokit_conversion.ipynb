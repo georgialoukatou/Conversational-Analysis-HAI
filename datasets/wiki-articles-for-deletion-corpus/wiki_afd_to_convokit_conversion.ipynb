{
 "cells": [
  {
   "cell_type": "markdown",
   "metadata": {},
   "source": [
    "# Converting Wikipedia Articles for Deletion (*AfD*) dataset into ConvoKit format"
   ]
  },
  {
   "cell_type": "markdown",
   "metadata": {},
   "source": [
    "In this notebook we are going to convert Wikipedia Articles for Deletion [dataset](https://github.com/emayfield/AFD_Decision_Corpus) by Elijah Mayfield and Alan W. Black into ConvoKit format.\n",
    "\n",
    "Here is an example of Wikipedia Article for Deletion page: https://en.wikipedia.org/wiki/Wikipedia:Articles_for_deletion/Andrew_Nellis"
   ]
  },
  {
   "cell_type": "code",
   "execution_count": 1,
   "metadata": {},
   "outputs": [],
   "source": [
    "import pandas as pd\n",
    "from convokit import Corpus, Speaker, Utterance\n",
    "import re\n",
    "# import glob, os, csv\n",
    "import json\n",
    "import numpy as np\n",
    "from tqdm import tqdm"
   ]
  },
  {
   "cell_type": "markdown",
   "metadata": {},
   "source": [
    "## Load the data"
   ]
  },
  {
   "cell_type": "markdown",
   "metadata": {},
   "source": [
    "Instructions on how to download `afd_2019_full_policies.json` as well as `pandas_afd` directory can be found [here](https://github.com/emayfield/AFD_Decision_Corpus)."
   ]
  },
  {
   "cell_type": "code",
   "execution_count": 2,
   "metadata": {},
   "outputs": [],
   "source": [
    "with open(\"afd_2019_full_policies.json\", 'r') as f:\n",
    "    afd = json.load(f)"
   ]
  },
  {
   "cell_type": "code",
   "execution_count": 3,
   "metadata": {},
   "outputs": [
    {
     "data": {
      "text/plain": [
       "dict_keys(['Users', 'Discussions', 'Outcomes', 'Contributions', 'Citations'])"
      ]
     },
     "execution_count": 3,
     "metadata": {},
     "output_type": "execute_result"
    }
   ],
   "source": [
    "afd.keys()"
   ]
  },
  {
   "cell_type": "markdown",
   "metadata": {},
   "source": [
    "We are also going to use `users_df.csv` file, as it provides more information on Wikipedia users than `afd_2019_full_policies.json` does."
   ]
  },
  {
   "cell_type": "code",
   "execution_count": 4,
   "metadata": {},
   "outputs": [],
   "source": [
    "users_df = pd.read_csv(\"pandas_afd/users_df.csv\")"
   ]
  },
  {
   "cell_type": "markdown",
   "metadata": {},
   "source": [
    "## Create Speaker Objects"
   ]
  },
  {
   "cell_type": "code",
   "execution_count": 5,
   "metadata": {},
   "outputs": [
    {
     "data": {
      "text/html": [
       "<div>\n",
       "<style scoped>\n",
       "    .dataframe tbody tr th:only-of-type {\n",
       "        vertical-align: middle;\n",
       "    }\n",
       "\n",
       "    .dataframe tbody tr th {\n",
       "        vertical-align: top;\n",
       "    }\n",
       "\n",
       "    .dataframe thead th {\n",
       "        text-align: right;\n",
       "    }\n",
       "</style>\n",
       "<table border=\"1\" class=\"dataframe\">\n",
       "  <thead>\n",
       "    <tr style=\"text-align: right;\">\n",
       "      <th></th>\n",
       "      <th>user_id</th>\n",
       "      <th>name</th>\n",
       "      <th>editcount</th>\n",
       "      <th>signup</th>\n",
       "      <th>gender</th>\n",
       "    </tr>\n",
       "  </thead>\n",
       "  <tbody>\n",
       "    <tr>\n",
       "      <th>0</th>\n",
       "      <td>200000001</td>\n",
       "      <td>Mangojuice</td>\n",
       "      <td>19969.0</td>\n",
       "      <td>2005-01-27T20:54:10Z</td>\n",
       "      <td>unknown</td>\n",
       "    </tr>\n",
       "    <tr>\n",
       "      <th>1</th>\n",
       "      <td>200000002</td>\n",
       "      <td>Vic sinclair</td>\n",
       "      <td>51.0</td>\n",
       "      <td>2005-07-16T16:30:17Z</td>\n",
       "      <td>unknown</td>\n",
       "    </tr>\n",
       "    <tr>\n",
       "      <th>2</th>\n",
       "      <td>200000003</td>\n",
       "      <td>69.196.150.118</td>\n",
       "      <td>NaN</td>\n",
       "      <td>NaN</td>\n",
       "      <td>NaN</td>\n",
       "    </tr>\n",
       "    <tr>\n",
       "      <th>3</th>\n",
       "      <td>200000004</td>\n",
       "      <td>TruthbringerToronto</td>\n",
       "      <td>6606.0</td>\n",
       "      <td>2006-05-07T20:34:14Z</td>\n",
       "      <td>unknown</td>\n",
       "    </tr>\n",
       "    <tr>\n",
       "      <th>4</th>\n",
       "      <td>200000005</td>\n",
       "      <td>Desertsky85451</td>\n",
       "      <td>3247.0</td>\n",
       "      <td>2006-07-17T16:54:56Z</td>\n",
       "      <td>unknown</td>\n",
       "    </tr>\n",
       "  </tbody>\n",
       "</table>\n",
       "</div>"
      ],
      "text/plain": [
       "     user_id                 name  editcount                signup   gender\n",
       "0  200000001           Mangojuice    19969.0  2005-01-27T20:54:10Z  unknown\n",
       "1  200000002         Vic sinclair       51.0  2005-07-16T16:30:17Z  unknown\n",
       "2  200000003       69.196.150.118        NaN                   NaN      NaN\n",
       "3  200000004  TruthbringerToronto     6606.0  2006-05-07T20:34:14Z  unknown\n",
       "4  200000005       Desertsky85451     3247.0  2006-07-17T16:54:56Z  unknown"
      ]
     },
     "execution_count": 5,
     "metadata": {},
     "output_type": "execute_result"
    }
   ],
   "source": [
    "users_df = users_df.drop(columns=['Unnamed: 0'])\n",
    "users_df.head(5)"
   ]
  },
  {
   "cell_type": "markdown",
   "metadata": {},
   "source": [
    "Certain users are repeated in the csv file. In cases of duplicates, we will only include the last occurence of the user"
   ]
  },
  {
   "cell_type": "code",
   "execution_count": 6,
   "metadata": {},
   "outputs": [
    {
     "data": {
      "text/html": [
       "<div>\n",
       "<style scoped>\n",
       "    .dataframe tbody tr th:only-of-type {\n",
       "        vertical-align: middle;\n",
       "    }\n",
       "\n",
       "    .dataframe tbody tr th {\n",
       "        vertical-align: top;\n",
       "    }\n",
       "\n",
       "    .dataframe thead th {\n",
       "        text-align: right;\n",
       "    }\n",
       "</style>\n",
       "<table border=\"1\" class=\"dataframe\">\n",
       "  <thead>\n",
       "    <tr style=\"text-align: right;\">\n",
       "      <th></th>\n",
       "      <th>user_id</th>\n",
       "      <th>name</th>\n",
       "      <th>editcount</th>\n",
       "      <th>signup</th>\n",
       "      <th>gender</th>\n",
       "    </tr>\n",
       "  </thead>\n",
       "  <tbody>\n",
       "    <tr>\n",
       "      <th>581</th>\n",
       "      <td>200000582</td>\n",
       "      <td>El C</td>\n",
       "      <td>103227.0</td>\n",
       "      <td>2004-08-09T10:55:09Z</td>\n",
       "      <td>unknown</td>\n",
       "    </tr>\n",
       "    <tr>\n",
       "      <th>582</th>\n",
       "      <td>200000582</td>\n",
       "      <td>El C</td>\n",
       "      <td>103229.0</td>\n",
       "      <td>2004-08-09T10:55:09Z</td>\n",
       "      <td>unknown</td>\n",
       "    </tr>\n",
       "    <tr>\n",
       "      <th>3575</th>\n",
       "      <td>200003575</td>\n",
       "      <td>Czar</td>\n",
       "      <td>95811.0</td>\n",
       "      <td>2005-06-11T17:16:04Z</td>\n",
       "      <td>unknown</td>\n",
       "    </tr>\n",
       "    <tr>\n",
       "      <th>3576</th>\n",
       "      <td>200003575</td>\n",
       "      <td>Czar</td>\n",
       "      <td>95812.0</td>\n",
       "      <td>2005-06-11T17:16:04Z</td>\n",
       "      <td>unknown</td>\n",
       "    </tr>\n",
       "    <tr>\n",
       "      <th>4163</th>\n",
       "      <td>200004162</td>\n",
       "      <td>K.e.coffman</td>\n",
       "      <td>91090.0</td>\n",
       "      <td>2014-09-22T03:23:48Z</td>\n",
       "      <td>unknown</td>\n",
       "    </tr>\n",
       "    <tr>\n",
       "      <th>4164</th>\n",
       "      <td>200004162</td>\n",
       "      <td>K.e.coffman</td>\n",
       "      <td>91100.0</td>\n",
       "      <td>2014-09-22T03:23:48Z</td>\n",
       "      <td>unknown</td>\n",
       "    </tr>\n",
       "    <tr>\n",
       "      <th>6984</th>\n",
       "      <td>200006982</td>\n",
       "      <td>David Fuchs</td>\n",
       "      <td>36826.0</td>\n",
       "      <td>2005-10-15T19:21:06Z</td>\n",
       "      <td>male</td>\n",
       "    </tr>\n",
       "    <tr>\n",
       "      <th>6985</th>\n",
       "      <td>200006982</td>\n",
       "      <td>David Fuchs</td>\n",
       "      <td>36827.0</td>\n",
       "      <td>2005-10-15T19:21:06Z</td>\n",
       "      <td>male</td>\n",
       "    </tr>\n",
       "    <tr>\n",
       "      <th>21280</th>\n",
       "      <td>200021277</td>\n",
       "      <td>Discospinster</td>\n",
       "      <td>277715.0</td>\n",
       "      <td>2004-06-27T18:41:07Z</td>\n",
       "      <td>unknown</td>\n",
       "    </tr>\n",
       "    <tr>\n",
       "      <th>21281</th>\n",
       "      <td>200021277</td>\n",
       "      <td>Discospinster</td>\n",
       "      <td>277716.0</td>\n",
       "      <td>2004-06-27T18:41:07Z</td>\n",
       "      <td>unknown</td>\n",
       "    </tr>\n",
       "  </tbody>\n",
       "</table>\n",
       "</div>"
      ],
      "text/plain": [
       "         user_id           name  editcount                signup   gender\n",
       "581    200000582           El C   103227.0  2004-08-09T10:55:09Z  unknown\n",
       "582    200000582           El C   103229.0  2004-08-09T10:55:09Z  unknown\n",
       "3575   200003575           Czar    95811.0  2005-06-11T17:16:04Z  unknown\n",
       "3576   200003575           Czar    95812.0  2005-06-11T17:16:04Z  unknown\n",
       "4163   200004162    K.e.coffman    91090.0  2014-09-22T03:23:48Z  unknown\n",
       "4164   200004162    K.e.coffman    91100.0  2014-09-22T03:23:48Z  unknown\n",
       "6984   200006982    David Fuchs    36826.0  2005-10-15T19:21:06Z     male\n",
       "6985   200006982    David Fuchs    36827.0  2005-10-15T19:21:06Z     male\n",
       "21280  200021277  Discospinster   277715.0  2004-06-27T18:41:07Z  unknown\n",
       "21281  200021277  Discospinster   277716.0  2004-06-27T18:41:07Z  unknown"
      ]
     },
     "execution_count": 6,
     "metadata": {},
     "output_type": "execute_result"
    }
   ],
   "source": [
    "pd.concat(g for _, g in users_df.groupby(\"user_id\") if len(g) > 1)"
   ]
  },
  {
   "cell_type": "markdown",
   "metadata": {},
   "source": [
    "Modify the dataframe to only contain meta information for speakers and create the speaker objects."
   ]
  },
  {
   "cell_type": "code",
   "execution_count": 7,
   "metadata": {},
   "outputs": [],
   "source": [
    "speaker_meta = users_df.replace({np.nan:None}).drop_duplicates(subset=['user_id'], keep='last').set_index('user_id').T.to_dict()"
   ]
  },
  {
   "cell_type": "code",
   "execution_count": 8,
   "metadata": {},
   "outputs": [],
   "source": [
    "speaker_objects = {}\n",
    "for s_id in speaker_meta:\n",
    "    speaker_objects[str(s_id)] = Speaker(id=str(s_id), meta=speaker_meta[s_id])"
   ]
  },
  {
   "cell_type": "code",
   "execution_count": 9,
   "metadata": {},
   "outputs": [
    {
     "data": {
      "text/plain": [
       "179859"
      ]
     },
     "execution_count": 9,
     "metadata": {},
     "output_type": "execute_result"
    }
   ],
   "source": [
    "len(speaker_objects)"
   ]
  },
  {
   "cell_type": "markdown",
   "metadata": {},
   "source": [
    "Number of speakers in the full dataset is 179859. \n",
    "\n",
    "Here are examples of speaker objects:"
   ]
  },
  {
   "cell_type": "code",
   "execution_count": 10,
   "metadata": {},
   "outputs": [
    {
     "data": {
      "text/plain": [
       "Speaker({'obj_type': 'speaker', 'meta': {'name': 'El C', 'editcount': 103229.0, 'signup': '2004-08-09T10:55:09Z', 'gender': 'unknown'}, 'vectors': [], 'owner': None, 'id': '200000582'})"
      ]
     },
     "execution_count": 10,
     "metadata": {},
     "output_type": "execute_result"
    }
   ],
   "source": [
    "speaker_objects['200000582']"
   ]
  },
  {
   "cell_type": "code",
   "execution_count": 11,
   "metadata": {},
   "outputs": [
    {
     "data": {
      "text/plain": [
       "Speaker({'obj_type': 'speaker', 'meta': {'name': '69.196.150.118', 'editcount': None, 'signup': None, 'gender': None}, 'vectors': [], 'owner': None, 'id': '200000003'})"
      ]
     },
     "execution_count": 11,
     "metadata": {},
     "output_type": "execute_result"
    }
   ],
   "source": [
    "speaker_objects['200000003']"
   ]
  },
  {
   "cell_type": "markdown",
   "metadata": {},
   "source": [
    "## Create Utterance Objects"
   ]
  },
  {
   "cell_type": "markdown",
   "metadata": {},
   "source": [
    "Here, we are going to use data from Contributions list of `afd_2019_full_policies.json` dictionary. Mayfield data categorizes contributions into three classes: ***nominations*** for deletion (these tend to happen at the beginning of the disucssion, but not all discussions start with a nomination), ***votes*** by users to delete/keep the article followed by a rationale for the vote, and general ***non-voting comments*** made by users. \n",
    "\n",
    "Below are examples of a nomination, a vote, and a non-voting comment, in that respective order:"
   ]
  },
  {
   "cell_type": "code",
   "execution_count": 12,
   "metadata": {},
   "outputs": [
    {
     "data": {
      "text/plain": [
       "({'Parent': -1,\n",
       "  'Discussion': 100000001,\n",
       "  'Timestamp': 1158550020.0,\n",
       "  'User': 200000002,\n",
       "  'Text': 'Suspected vanity page.  Person clearly not encyclopedic ',\n",
       "  'ID': 600000001},\n",
       " {'Parent': -1,\n",
       "  'Discussion': 100000001,\n",
       "  'Timestamp': 1158737220.0,\n",
       "  'User': 200000003,\n",
       "  'Label': 'keep',\n",
       "  'Raw': 'keep',\n",
       "  'Rationale': \"*'''Keep''' - I think we should keep this page as Andrew is a notable figure in Canadian labour politics as is also a well-known figure in internet circles. He has appeared many times on local television news as well as his name appearing in all the local newspapers. --\",\n",
       "  'ID': 400000001},\n",
       " {'Parent': -1,\n",
       "  'Discussion': 100000001,\n",
       "  'Timestamp': 1158789840.0,\n",
       "  'User': 200000008,\n",
       "  'Text': '::This \"Information\" is completely irrelevant to whether the article merits deletion or not     and appears to be little more than an unfounded attempt to vilify those in support of keeping the page. ',\n",
       "  'ID': 500000001})"
      ]
     },
     "execution_count": 12,
     "metadata": {},
     "output_type": "execute_result"
    }
   ],
   "source": [
    "afd['Contributions'][0], afd['Contributions'][1], afd['Contributions'][10]"
   ]
  },
  {
   "cell_type": "markdown",
   "metadata": {},
   "source": [
    "**Observe that** `parent` key in each of the contribution dictionaries has a value of `-1`. At this point Mayfield data does not have any information on the conversation structure, from which we can extract reply-to chains. So, to make sure that ConvoKit checks do not throw errors, we are going to introduce the following structure:\n",
    "* Every first utterance (nomination, vote, or a non-voting comment) we encounter in the discussion does not have a parent utterance (i.e. reply-to is None)\n",
    "* Voting comments and nominations (if they are not already first in the discussion) are replies to the first utterance in the discussion\n",
    "* Non-voting comments are replies to either (i) the previous vote or (ii) the first utterance in the discussion if no vote has been cast yet."
   ]
  },
  {
   "cell_type": "code",
   "execution_count": 13,
   "metadata": {},
   "outputs": [
    {
     "name": "stderr",
     "output_type": "stream",
     "text": [
      "100%|██████████| 3295340/3295340 [01:28<00:00, 37079.86it/s]\n"
     ]
    }
   ],
   "source": [
    "utterance_objects = {}\n",
    "seen_discussions = {}\n",
    "previous_vote = '', '' #the last voting comments & discussion it occurred in\n",
    "\n",
    "# We are also going to get citations information for each contributions from Citations list\n",
    "citations_dct = {str(d['ID']): d['Citations'] for d in afd['Citations']}\n",
    "\n",
    "for contribution in tqdm(afd['Contributions']):\n",
    "         \n",
    "            c_id = str(contribution['ID'])\n",
    "            c_meta = {'citations': citations_dct.get(c_id, [])}\n",
    "            c_speaker = str(contribution['User'])\n",
    "            c_conversation_id = str(contribution['Discussion'])\n",
    "            c_timestamp = contribution['Timestamp']\n",
    "\n",
    "            \n",
    "            #keep track of the first contribution in the discussion we encounter\n",
    "            if c_conversation_id not in seen_discussions:\n",
    "                seen_discussions[c_conversation_id] = c_id\n",
    "\n",
    "                \n",
    "            #if the contribution is a vote\n",
    "            if c_id[0] == '4':\n",
    "                c_meta.update({'type': 'vote', \n",
    "                               'label': contribution['Label'],\n",
    "                               'raw_label':contribution['Raw']})\n",
    "                #replace mask the bolded expression with a \"VOTE\"\n",
    "                c_text = re.sub(\"\\'\\'\\'[^\\']+\\'\\'\\'\", \"VOTE\", contribution['Rationale'])\n",
    "                #votes are replies to the first contribution/utterance in the discussion\n",
    "                c_reply_to = seen_discussions[c_conversation_id]                \n",
    "                #keep track of the last voting comments & discussion it occurred in\n",
    "                previous_vote = c_id, c_conversation_id\n",
    "\n",
    "                \n",
    "            #if the contribution is a non-voting comment    \n",
    "            elif c_id[0] == '5':\n",
    "                c_meta.update({'type':'non-voting comment',\n",
    "                               'label': None,\n",
    "                               'raw_label': None})\n",
    "                c_text = contribution['Text']\n",
    "                #when a non-voting comment happens before any vote was made, it is a reply to the first contribution in the discussion\n",
    "                if previous_vote[1] != c_conversation_id: \n",
    "                    c_reply_to = seen_discussions[c_conversation_id]\n",
    "                #when a comment happens after the vote in the discussion, it is a reply to that vote\n",
    "                else:\n",
    "                    c_reply_to = previous_vote[0]\n",
    "\n",
    "                    \n",
    "            #if contribution is a nomination        \n",
    "            elif c_id[0] == '6':\n",
    "                c_meta.update({'type':'nomination',\n",
    "                               'label': None,\n",
    "                               'raw_label': None})\n",
    "                c_text = contribution['Text']\n",
    "                #c_reply_to = None\n",
    "\n",
    "                #want to make sure that nominations only happen at the very beginning of a discussion\n",
    "                if c_id != seen_discussions[c_conversation_id]:\n",
    "                    print(\"Something wrong\")\n",
    "\n",
    "            else:\n",
    "                print(c_id[0])\n",
    "\n",
    "                \n",
    "\n",
    "            #The first comment is not a reply to any other contribution\n",
    "            if c_id == seen_discussions[c_conversation_id]:\n",
    "                    c_reply_to = None\n",
    "\n",
    "            utterance_objects[c_id] = Utterance(id = c_id, \n",
    "                                                speaker = speaker_objects[c_speaker], \n",
    "                                                conversation_id = c_conversation_id, \n",
    "                                                reply_to = c_reply_to, \n",
    "                                                timestamp = c_timestamp, \n",
    "                                                text = c_text,\n",
    "                                                meta = c_meta\n",
    "                                               )       "
   ]
  },
  {
   "cell_type": "markdown",
   "metadata": {},
   "source": [
    "Number of discussions (i.e. ConvoKit conversations) in this data"
   ]
  },
  {
   "cell_type": "code",
   "execution_count": 14,
   "metadata": {},
   "outputs": [
    {
     "data": {
      "text/plain": [
       "383918"
      ]
     },
     "execution_count": 14,
     "metadata": {},
     "output_type": "execute_result"
    }
   ],
   "source": [
    "len(seen_discussions)"
   ]
  },
  {
   "cell_type": "markdown",
   "metadata": {},
   "source": [
    "Number of contributions (i.e. ConvoKit utterances) in this data"
   ]
  },
  {
   "cell_type": "code",
   "execution_count": 15,
   "metadata": {},
   "outputs": [
    {
     "data": {
      "text/plain": [
       "3295340"
      ]
     },
     "execution_count": 15,
     "metadata": {},
     "output_type": "execute_result"
    }
   ],
   "source": [
    "len(utterance_objects)"
   ]
  },
  {
   "cell_type": "markdown",
   "metadata": {},
   "source": [
    "However, note that some of these contributions are empty strings after parsing/cleaning steps completed by authors of the original dataset."
   ]
  },
  {
   "cell_type": "code",
   "execution_count": 16,
   "metadata": {},
   "outputs": [
    {
     "name": "stderr",
     "output_type": "stream",
     "text": [
      "100%|██████████| 3295340/3295340 [00:28<00:00, 114007.23it/s]\n"
     ]
    }
   ],
   "source": [
    "empty_string_contributions = []\n",
    "for contribution in tqdm(afd['Contributions']):\n",
    "    c_id = str(contribution['ID'])\n",
    "    if (c_id[0] == '4' and len(contribution['Rationale'].split()) != 0) or \\\n",
    "       (c_id[0] != '4' and len(contribution['Text'].split()) != 0):\n",
    "        a = 1\n",
    "    else:\n",
    "        empty_string_contributions.append(contribution)"
   ]
  },
  {
   "cell_type": "code",
   "execution_count": 17,
   "metadata": {},
   "outputs": [
    {
     "data": {
      "text/plain": [
       "80290"
      ]
     },
     "execution_count": 17,
     "metadata": {},
     "output_type": "execute_result"
    }
   ],
   "source": [
    "len(empty_string_contributions)"
   ]
  },
  {
   "cell_type": "markdown",
   "metadata": {},
   "source": [
    "Here is how examples of a nomination, a vote, and a non-voting comment from above as utterance objects"
   ]
  },
  {
   "cell_type": "code",
   "execution_count": 18,
   "metadata": {},
   "outputs": [
    {
     "data": {
      "text/plain": [
       "Utterance({'obj_type': 'utterance', 'meta': {'citations': [], 'type': 'nomination', 'label': None, 'raw_label': None}, 'vectors': [], 'speaker': Speaker({'obj_type': 'speaker', 'meta': {'name': 'Vic sinclair', 'editcount': 51.0, 'signup': '2005-07-16T16:30:17Z', 'gender': 'unknown'}, 'vectors': [], 'owner': None, 'id': '200000002'}), 'conversation_id': '100000001', 'reply_to': None, 'timestamp': 1158550020.0, 'text': 'Suspected vanity page.  Person clearly not encyclopedic ', 'owner': None, 'id': '600000001'})"
      ]
     },
     "execution_count": 18,
     "metadata": {},
     "output_type": "execute_result"
    }
   ],
   "source": [
    "utterance_objects['600000001']"
   ]
  },
  {
   "cell_type": "code",
   "execution_count": 19,
   "metadata": {},
   "outputs": [
    {
     "data": {
      "text/plain": [
       "Utterance({'obj_type': 'utterance', 'meta': {'citations': ['signatures'], 'type': 'vote', 'label': 'keep', 'raw_label': 'keep'}, 'vectors': [], 'speaker': Speaker({'obj_type': 'speaker', 'meta': {'name': 'TruthbringerToronto', 'editcount': 6606.0, 'signup': '2006-05-07T20:34:14Z', 'gender': 'unknown'}, 'vectors': [], 'owner': None, 'id': '200000004'}), 'conversation_id': '100000001', 'reply_to': '600000001', 'timestamp': 1158558120.0, 'text': '*VOTE. Notable Ottawa activist who has appeared on radio and television. See references. --01:42, 18 September 2006 (UTC) <small>—The preceding [[Wikipedia:Sign your posts on talk pages|unsigned]] comment was added by ', 'owner': None, 'id': '400000002'})"
      ]
     },
     "execution_count": 19,
     "metadata": {},
     "output_type": "execute_result"
    }
   ],
   "source": [
    "utterance_objects['400000002']"
   ]
  },
  {
   "cell_type": "code",
   "execution_count": 20,
   "metadata": {},
   "outputs": [
    {
     "data": {
      "text/plain": [
       "Utterance({'obj_type': 'utterance', 'meta': {'citations': [], 'type': 'non-voting comment', 'label': None, 'raw_label': None}, 'vectors': [], 'speaker': Speaker({'obj_type': 'speaker', 'meta': {'name': 'Kroppie', 'editcount': 18.0, 'signup': '2006-02-14T14:30:43Z', 'gender': 'unknown'}, 'vectors': [], 'owner': None, 'id': '200000008'}), 'conversation_id': '100000001', 'reply_to': '400000009', 'timestamp': 1158789840.0, 'text': '::This \"Information\" is completely irrelevant to whether the article merits deletion or not     and appears to be little more than an unfounded attempt to vilify those in support of keeping the page. ', 'owner': None, 'id': '500000001'})"
      ]
     },
     "execution_count": 20,
     "metadata": {},
     "output_type": "execute_result"
    }
   ],
   "source": [
    "utterance_objects['500000001']"
   ]
  },
  {
   "cell_type": "markdown",
   "metadata": {},
   "source": [
    "## Create Corpus Object"
   ]
  },
  {
   "cell_type": "code",
   "execution_count": 21,
   "metadata": {},
   "outputs": [],
   "source": [
    "afd_corpus = Corpus(utterances=list(utterance_objects.values()))"
   ]
  },
  {
   "cell_type": "code",
   "execution_count": 22,
   "metadata": {},
   "outputs": [
    {
     "data": {
      "text/plain": [
       "Utterance({'obj_type': 'utterance', 'meta': {'citations': [], 'type': 'non-voting comment', 'label': None, 'raw_label': None}, 'vectors': [], 'speaker': Speaker({'obj_type': 'speaker', 'meta': {'name': 'Spinningspark', 'editcount': 70773.0, 'signup': '2007-03-03T09:41:30Z', 'gender': 'male'}, 'vectors': [], 'owner': <convokit.model.corpus.Corpus object at 0x7f836804e220>, 'id': '200004545'}), 'conversation_id': '100356850', 'reply_to': '401659650', 'timestamp': 1523457360.0, 'text': '*\\'\\'\\'Comment\\'\\'\\'. Yet again we have an AfD nomination of a food related article with the rationale \"Wikipedia is not a recipe book\" where the nominator seems to have completely failed to observe that there is actually no recipe in the article.  That just translates to IDONTLIKEIT and should be ignored by the closer as an invalid argument. ', 'owner': <convokit.model.corpus.Corpus object at 0x7f836804e220>, 'id': '500849879'})"
      ]
     },
     "execution_count": 22,
     "metadata": {},
     "output_type": "execute_result"
    }
   ],
   "source": [
    "afd_corpus.random_utterance()"
   ]
  },
  {
   "cell_type": "markdown",
   "metadata": {},
   "source": [
    "Corpus summary information:"
   ]
  },
  {
   "cell_type": "code",
   "execution_count": 23,
   "metadata": {},
   "outputs": [
    {
     "name": "stdout",
     "output_type": "stream",
     "text": [
      "Number of Speakers: 161266\n",
      "Number of Utterances: 3295340\n",
      "Number of Conversations: 383918\n"
     ]
    }
   ],
   "source": [
    "afd_corpus.print_summary_stats()"
   ]
  },
  {
   "cell_type": "markdown",
   "metadata": {},
   "source": [
    "Add the dataset name."
   ]
  },
  {
   "cell_type": "code",
   "execution_count": 24,
   "metadata": {},
   "outputs": [],
   "source": [
    "afd_corpus.meta['name'] = 'Wikipedia Articles for Deletion Dataset'"
   ]
  },
  {
   "cell_type": "markdown",
   "metadata": {},
   "source": [
    "## Add Metadata for Converastions"
   ]
  },
  {
   "cell_type": "markdown",
   "metadata": {},
   "source": [
    "In the metadata field for each conversation we are going to include the title of the Wikipedia page suggested for deletion and information about the outcome of the discussion (as was determined by an admin)."
   ]
  },
  {
   "cell_type": "code",
   "execution_count": 25,
   "metadata": {},
   "outputs": [
    {
     "data": {
      "text/plain": [
       "{'ID': 100000001, 'Title': 'Andrew Nellis'}"
      ]
     },
     "execution_count": 25,
     "metadata": {},
     "output_type": "execute_result"
    }
   ],
   "source": [
    "afd['Discussions'][0]"
   ]
  },
  {
   "cell_type": "code",
   "execution_count": 26,
   "metadata": {},
   "outputs": [
    {
     "data": {
      "text/plain": [
       "{'ID': 300000001,\n",
       " 'Parent': 100000001,\n",
       " 'Label': 'delete',\n",
       " 'Raw': 'delete,',\n",
       " 'User': 200000001,\n",
       " 'Timestamp': 1159342800.0,\n",
       " 'Rationale': \"The result was '''delete,''' discounting SPA's.  \"}"
      ]
     },
     "execution_count": 26,
     "metadata": {},
     "output_type": "execute_result"
    }
   ],
   "source": [
    "afd['Outcomes'][0]"
   ]
  },
  {
   "cell_type": "code",
   "execution_count": 27,
   "metadata": {},
   "outputs": [
    {
     "name": "stderr",
     "output_type": "stream",
     "text": [
      "383918it [00:07, 52868.44it/s]\n"
     ]
    }
   ],
   "source": [
    "outcomes_dct = {str(d['Parent']): d for d in afd['Outcomes']}\n",
    "disc_info_dct = {str(d['ID']): d['Title'] for d in afd['Discussions']}\n",
    "\n",
    "\n",
    "for conversation in tqdm(afd_corpus.iter_conversations()):\n",
    "    \n",
    "    c_id = conversation.get_id()\n",
    "    if c_id not in outcomes_dct:\n",
    "        outcome_id, outcome_label, outcome_label_raw, outcome_user, outcome_timestamp, outcome_rationale = None, None, None, None, None, None\n",
    "    \n",
    "    outcome_id = outcomes_dct[c_id]['ID']\n",
    "    outcome_label = outcomes_dct[c_id]['Label']\n",
    "    outcome_label_raw = outcomes_dct[c_id]['Raw']\n",
    "    outcome_user = outcomes_dct[c_id]['User']\n",
    "    outcome_timestamp = outcomes_dct[c_id]['Timestamp']\n",
    "    outcome_rationale = outcomes_dct[c_id]['Rationale']\n",
    "    \n",
    "    \n",
    "    conversation.meta.update({'article_title': disc_info_dct[c_id], \n",
    "                              'outcome_id': str(outcome_id), \n",
    "                              'outcome_label': outcome_label, \n",
    "                              'outcome_raw_label': outcome_label_raw, \n",
    "                              'outcome_decision_maker_id': str(outcome_user),\n",
    "                              'outcome_timestamp': outcome_timestamp,\n",
    "                              'outcome_rationale': outcome_rationale\n",
    "                             })"
   ]
  },
  {
   "cell_type": "code",
   "execution_count": 28,
   "metadata": {},
   "outputs": [
    {
     "data": {
      "text/plain": [
       "{'article_title': 'Hibiya High School',\n",
       " 'outcome_id': '300281410',\n",
       " 'outcome_label': 'keep speedy',\n",
       " 'outcome_raw_label': 'speedy keep',\n",
       " 'outcome_decision_maker_id': '200000595',\n",
       " 'outcome_timestamp': 1176317760.0,\n",
       " 'outcome_rationale': \"The result was '''speedy keep'''.  Non-admin closure. \"}"
      ]
     },
     "execution_count": 28,
     "metadata": {},
     "output_type": "execute_result"
    }
   ],
   "source": [
    "afd_corpus.get_conversation('100309419').meta"
   ]
  },
  {
   "cell_type": "markdown",
   "metadata": {},
   "source": [
    "**Note** that some, but not all, of the outcome decision makers also appear as speakers in this corpus.\n",
    "\n",
    "User with ID of `'200000595'`, who made the final decision in the example debate above, is also a speaker."
   ]
  },
  {
   "cell_type": "code",
   "execution_count": 29,
   "metadata": {},
   "outputs": [
    {
     "data": {
      "text/plain": [
       "Speaker({'obj_type': 'speaker', 'meta': {'name': 'YechielMan', 'editcount': 13.0, 'signup': '2009-03-16T05:12:51Z', 'gender': 'unknown'}, 'vectors': [], 'owner': <convokit.model.corpus.Corpus object at 0x7f836804e220>, 'id': '200000595'})"
      ]
     },
     "execution_count": 29,
     "metadata": {},
     "output_type": "execute_result"
    }
   ],
   "source": [
    "afd_corpus.get_speaker('200000595')"
   ]
  },
  {
   "cell_type": "markdown",
   "metadata": {},
   "source": [
    "However, `76` of the outcome decision makers never appeared as contributors/speakers in debates of this corpus."
   ]
  },
  {
   "cell_type": "code",
   "execution_count": 30,
   "metadata": {},
   "outputs": [
    {
     "data": {
      "text/plain": [
       "76"
      ]
     },
     "execution_count": 30,
     "metadata": {},
     "output_type": "execute_result"
    }
   ],
   "source": [
    "speaker_ids = []\n",
    "for speaker in afd_corpus.iter_speakers():\n",
    "    speaker_ids.append(speaker.id)\n",
    "\n",
    "missing_users = set([])\n",
    "for conversation in afd_corpus.iter_conversations():\n",
    "    user_id = str(conversation.meta['outcome_decision_maker_id'])\n",
    "    if user_id not in speaker_ids:\n",
    "        missing_users.add(user_id)\n",
    "        \n",
    "len(missing_users)"
   ]
  },
  {
   "cell_type": "markdown",
   "metadata": {},
   "source": [
    "## Verify"
   ]
  },
  {
   "cell_type": "code",
   "execution_count": 31,
   "metadata": {},
   "outputs": [
    {
     "data": {
      "text/plain": [
       "Utterance({'obj_type': 'utterance', 'meta': {'citations': [], 'type': 'vote', 'label': 'keep', 'raw_label': 'strong keep:'}, 'vectors': [], 'speaker': Speaker({'obj_type': 'speaker', 'meta': {'name': 'Ju-ju', 'editcount': 2.0, 'signup': '2006-06-23T16:41:53Z', 'gender': 'unknown'}, 'vectors': [], 'owner': <convokit.model.corpus.Corpus object at 0x7f836804e220>, 'id': '200101465'}), 'conversation_id': '100186630', 'reply_to': '600140671', 'timestamp': 1151096100.0, 'text': \"VOTE This article documents a major event that impacted South Florida tremendously. It was more than just a minor strike, it was the beginning of a chain reaction that raised the awareness of workers' rights not only in the University of Miami community, but also throughout the nation as the story circulated the national news wires. The article carries enough detail and information to be kept online for the education of others, and should not be deleted.\", 'owner': <convokit.model.corpus.Corpus object at 0x7f836804e220>, 'id': '400871101'})"
      ]
     },
     "execution_count": 31,
     "metadata": {},
     "output_type": "execute_result"
    }
   ],
   "source": [
    "afd_corpus.random_utterance()"
   ]
  },
  {
   "cell_type": "code",
   "execution_count": 32,
   "metadata": {},
   "outputs": [
    {
     "data": {
      "text/plain": [
       "Conversation({'obj_type': 'conversation', 'meta': {'article_title': 'Kyle Leopold', 'outcome_id': '300165514', 'outcome_label': 'delete speedy', 'outcome_raw_label': 'speedily deleted', 'outcome_decision_maker_id': '200016801', 'outcome_timestamp': 1231535280.0, 'outcome_rationale': 'The result was    \\'\\'\\'speedily deleted\\'\\'\\' by {{admin|TexasAndroid}} ([[WP:NAC|non-admin closure]]). <font face=\"Arial\"> '}, 'vectors': [], 'tree': None, 'owner': <convokit.model.corpus.Corpus object at 0x7f836804e220>, 'id': '100181561'})"
      ]
     },
     "execution_count": 32,
     "metadata": {},
     "output_type": "execute_result"
    }
   ],
   "source": [
    "afd_corpus.random_conversation()"
   ]
  },
  {
   "cell_type": "markdown",
   "metadata": {},
   "source": [
    "#### Check reply-to chain integrity"
   ]
  },
  {
   "cell_type": "code",
   "execution_count": 33,
   "metadata": {},
   "outputs": [
    {
     "name": "stderr",
     "output_type": "stream",
     "text": [
      "383918it [00:09, 38514.69it/s]\n"
     ]
    }
   ],
   "source": [
    "broken = []\n",
    "for convo in tqdm(afd_corpus.iter_conversations()):\n",
    "    if not convo.check_integrity(verbose=False):\n",
    "        broken.append(convo.id)"
   ]
  },
  {
   "cell_type": "code",
   "execution_count": 34,
   "metadata": {},
   "outputs": [
    {
     "name": "stdout",
     "output_type": "stream",
     "text": [
      "0\n"
     ]
    }
   ],
   "source": [
    "print(len(broken))"
   ]
  },
  {
   "cell_type": "markdown",
   "metadata": {},
   "source": [
    "So, all conversations were verified to have valid reply-to chains."
   ]
  },
  {
   "cell_type": "markdown",
   "metadata": {},
   "source": [
    "## Dump the corpus"
   ]
  },
  {
   "cell_type": "code",
   "execution_count": null,
   "metadata": {},
   "outputs": [],
   "source": [
    "afd_corpus.dump(\"wiki-articles-for-deletion-corpus\")"
   ]
  }
 ],
 "metadata": {
  "kernelspec": {
   "display_name": "Python 3",
   "language": "python",
   "name": "python3"
  },
  "language_info": {
   "codemirror_mode": {
    "name": "ipython",
    "version": 3
   },
   "file_extension": ".py",
   "mimetype": "text/x-python",
   "name": "python",
   "nbconvert_exporter": "python",
   "pygments_lexer": "ipython3",
   "version": "3.8.3"
  }
 },
 "nbformat": 4,
 "nbformat_minor": 4
}
